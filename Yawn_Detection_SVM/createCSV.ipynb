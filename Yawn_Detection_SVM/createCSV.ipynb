{
 "cells": [
  {
   "cell_type": "code",
   "execution_count": 1,
   "id": "eca6b5ff",
   "metadata": {},
   "outputs": [],
   "source": [
    "import os\n",
    "import cv2\n",
    "import mediapipe as mp\n",
    "import numpy as np\n",
    "import pandas as pd\n",
    "from collections import defaultdict"
   ]
  },
  {
   "cell_type": "code",
   "execution_count": null,
   "id": "06c21047",
   "metadata": {},
   "outputs": [],
   "source": [
    "# Fungsi ini mendeteksi wajah dan menghitung Mouth Aspect Ratio\n",
    "def calculate_mar(image, face_mesh):\n",
    "    # Konversi gambar BGR ke RGB\n",
    "    image_rgb = cv2.cvtColor(image, cv2.COLOR_BGR2RGB)\n",
    "    results = face_mesh.process(image_rgb)\n",
    "    \n",
    "    # Indeks landmark untuk bibir bagian dalam\n",
    "    lip_indices = [78, 191, 80, 81, 82, 13, 312, 311, 310, 415, 308, 95, 88, 178, 87, 14, 317, 402, 318, 324]\n",
    "    \n",
    "    if results.multi_face_landmarks:\n",
    "        for face_landmarks in results.multi_face_landmarks:\n",
    "            # Ambil koordinat titik-titik vertikal dan horizontal\n",
    "            p_vertical1 = face_landmarks.landmark[13]\n",
    "            p_vertical2 = face_landmarks.landmark[14]\n",
    "            p_horizontal1 = face_landmarks.landmark[78]\n",
    "            p_horizontal2 = face_landmarks.landmark[308]\n",
    "\n",
    "            # Hitung jarak Euclidean\n",
    "            vertical_dist = np.linalg.norm([p_vertical1.x - p_vertical2.x, p_vertical1.y - p_vertical2.y])\n",
    "            horizontal_dist = np.linalg.norm([p_horizontal1.x - p_horizontal2.x, p_horizontal1.y - p_horizontal2.y])\n",
    "            \n",
    "            if horizontal_dist > 0:\n",
    "                mar = vertical_dist / horizontal_dist\n",
    "                return mar\n",
    "    return 0.0 # Kembalikan 0 jika tidak ada wajah terdeteksi"
   ]
  },
  {
   "cell_type": "code",
   "execution_count": null,
   "id": "7b883912",
   "metadata": {},
   "outputs": [],
   "source": [
    "def group_files_by_subject(folder_path):\n",
    "    files = os.listdir(folder_path)\n",
    "    groups = defaultdict(list)\n",
    "    for f in files:\n",
    "        if '-' in f and f.endswith(('.jpg', '.png')):\n",
    "            subject_id = f.split('-')[0]\n",
    "            groups[subject_id].append(f)\n",
    "    # Urutkan file di dalam setiap grup berdasarkan nomor frame\n",
    "    for subject_id, file_list in groups.items():\n",
    "        file_list.sort(key=lambda x: int(x.split('-')[1].split('.')[0]))\n",
    "    return groups"
   ]
  },
  {
   "cell_type": "code",
   "execution_count": null,
   "id": "d3fcb6e4",
   "metadata": {},
   "outputs": [],
   "source": [
    "DATA_DIR = \"YawDD dataset/\"\n",
    "YAWN_FOLDER = os.path.join(DATA_DIR, \"yawn\")\n",
    "NO_YAWN_FOLDER = os.path.join(DATA_DIR, \"no_yawn\")\n",
    "\n",
    "# Inisialisasi MediaPipe\n",
    "mp_face_mesh = mp.solutions.face_mesh\n",
    "face_mesh = mp_face_mesh.FaceMesh(static_image_mode=True, max_num_faces=1)\n",
    "\n",
    "all_features = []"
   ]
  },
  {
   "cell_type": "code",
   "execution_count": null,
   "id": "03ba59ae",
   "metadata": {},
   "outputs": [
    {
     "name": "stdout",
     "output_type": "stream",
     "text": [
      "Memproses folder: no_yawn (Label: 0)\n",
      "Memproses folder: yawn (Label: 1)\n"
     ]
    }
   ],
   "source": [
    "# Label 0 untuk no_yawn, Label 1 untuk yawn\n",
    "for label, folder_path in enumerate([NO_YAWN_FOLDER, YAWN_FOLDER]): \n",
    "    print(f\"Memproses folder: {os.path.basename(folder_path)} (Label: {label})\")\n",
    "    \n",
    "    subject_groups = group_files_by_subject(folder_path)\n",
    "    \n",
    "    for subject_id, clip_files in subject_groups.items():\n",
    "        mar_values_for_clip = []\n",
    "        \n",
    "        for file_name in clip_files:\n",
    "            image_path = os.path.join(folder_path, file_name)\n",
    "            image = cv2.imread(image_path)\n",
    "            if image is not None:\n",
    "                mar = calculate_mar(image, face_mesh)\n",
    "                mar_values_for_clip.append(mar)\n",
    "        \n",
    "        if mar_values_for_clip:\n",
    "            features = {\n",
    "                \"subject_id\": f\"{os.path.basename(folder_path)}_{subject_id}\",\n",
    "                \"mar_mean\": np.mean(mar_values_for_clip),\n",
    "                \"mar_max\": np.max(mar_values_for_clip),\n",
    "                \"mar_std\": np.std(mar_values_for_clip),\n",
    "                \"label\": label\n",
    "            }\n",
    "            all_features.append(features)"
   ]
  },
  {
   "cell_type": "code",
   "execution_count": null,
   "id": "df3c5ec2",
   "metadata": {},
   "outputs": [
    {
     "name": "stdout",
     "output_type": "stream",
     "text": [
      "\n",
      "=======================================================\n",
      "File 'yawn_features_final.csv' berhasil dibuat.\n",
      "Dataset siap untuk dilatih dengan model SVM.\n",
      "=======================================================\n",
      "   subject_id  mar_mean   mar_max   mar_std  label\n",
      "0   no_yawn_1  0.053303  0.179509  0.058467      0\n",
      "1  no_yawn_10  0.080693  0.214398  0.043297      0\n",
      "2  no_yawn_11  0.027227  0.038065  0.007924      0\n",
      "3  no_yawn_12  0.050905  0.068027  0.009067      0\n",
      "4  no_yawn_13  0.016059  0.022436  0.004218      0\n"
     ]
    }
   ],
   "source": [
    "# Tutup objek face_mesh setelah selesai\n",
    "face_mesh.close()\n",
    "\n",
    "df = pd.DataFrame(all_features)\n",
    "df.to_csv(\"yawn_features_final.csv\", index=False)\n",
    "\n",
    "print(\"\\n=======================================================\")\n",
    "print(\"File 'yawn_features_final.csv' berhasil dibuat.\")\n",
    "print(\"Dataset siap untuk dilatih dengan model SVM.\")\n",
    "print(\"=======================================================\")\n",
    "print(df.head())"
   ]
  }
 ],
 "metadata": {
  "kernelspec": {
   "display_name": "DROWSINESS_DETECTOR",
   "language": "python",
   "name": "drowsiness_detector"
  },
  "language_info": {
   "codemirror_mode": {
    "name": "ipython",
    "version": 3
   },
   "file_extension": ".py",
   "mimetype": "text/x-python",
   "name": "python",
   "nbconvert_exporter": "python",
   "pygments_lexer": "ipython3",
   "version": "3.10.18"
  }
 },
 "nbformat": 4,
 "nbformat_minor": 5
}

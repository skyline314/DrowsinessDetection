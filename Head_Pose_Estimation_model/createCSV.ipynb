{
 "cells": [
  {
   "cell_type": "code",
   "execution_count": null,
   "id": "c1fcbde3",
   "metadata": {},
   "outputs": [
    {
     "name": "stdout",
     "output_type": "stream",
     "text": [
      "read file .mat from: AFLW2000\n"
     ]
    },
    {
     "name": "stderr",
     "output_type": "stream",
     "text": [
      "Processing .mat files: 100%|██████████| 4000/4000 [00:23<00:00, 173.22it/s]"
     ]
    },
    {
     "name": "stdout",
     "output_type": "stream",
     "text": [
      "\n",
      "Berhasil! File label telah dibuat di: AFLW2000_labels.csv\n",
      "Total 2000 label berhasil disimpan.\n"
     ]
    },
    {
     "name": "stderr",
     "output_type": "stream",
     "text": [
      "\n"
     ]
    }
   ],
   "source": [
    "import os\n",
    "import scipy.io as sio\n",
    "import pandas as pd\n",
    "from tqdm import tqdm\n",
    "\n",
    "LABEL_DIR = 'AFLW2000' \n",
    "OUTPUT_CSV_FILE = 'AFLW2000_labels.csv'\n",
    "\n",
    "\n",
    "def create_label_file(label_dir, output_file):\n",
    "    print(f\"read file .mat from: {label_dir}\")\n",
    "    \n",
    "    # List untuk menampung semua data label\n",
    "    all_labels_data = []\n",
    "    \n",
    "    # Dapatkan daftar semua file di direktori\n",
    "    file_list = os.listdir(label_dir)\n",
    "    \n",
    "    # Loop melalui setiap file menggunakan tqdm untuk progress bar\n",
    "    for filename in tqdm(file_list, desc=\"Processing .mat files\"):\n",
    "        # Hanya proses file yang berakhiran .mat\n",
    "        if filename.endswith('.mat'):\n",
    "            mat_path = os.path.join(label_dir, filename)\n",
    "            \n",
    "            try:\n",
    "                # Muat file .mat\n",
    "                mat_contents = sio.loadmat(mat_path)\n",
    "                \n",
    "                # Ekstrak parameter pose. Strukturnya bisa berbeda antar dataset.\n",
    "                # Isinya adalah array 1x3 atau 3x1. [pitch, yaw, roll]\n",
    "                pose_params = mat_contents['Pose_Para'][0]\n",
    "                \n",
    "                pitch = pose_params[0]\n",
    "                yaw = pose_params[1]\n",
    "                roll = pose_params[2]\n",
    "                image_name = filename.replace('.mat', '.jpg')\n",
    "                \n",
    "                # Tambahkan data ke list\n",
    "                all_labels_data.append({\n",
    "                    'image_name': image_name,\n",
    "                    'pitch': pitch,\n",
    "                    'yaw': yaw,\n",
    "                    'roll': roll\n",
    "                })\n",
    "                \n",
    "            except Exception as e:\n",
    "                print(f\"Gagal memproses file {filename}: {e}\")\n",
    "\n",
    "    if not all_labels_data:\n",
    "        print(\"Tidak ada data label yang berhasil diproses. Periksa kembali path dan struktur file .mat Anda.\")\n",
    "        return\n",
    "\n",
    "    # Buat DataFrame dari list data\n",
    "    labels_df = pd.DataFrame(all_labels_data)\n",
    "    \n",
    "    # Simpan DataFrame ke file CSV\n",
    "    labels_df.to_csv(output_file, index=False)\n",
    "    \n",
    "    print(f\"\\nBerhasil! File label telah dibuat di: {output_file}\")\n",
    "    print(f\"Total {len(labels_df)} label berhasil disimpan.\")\n",
    "\n",
    "\n",
    "if __name__ == '__main__':\n",
    "    create_label_file(LABEL_DIR, OUTPUT_CSV_FILE)"
   ]
  }
 ],
 "metadata": {
  "kernelspec": {
   "display_name": "DROWSINESS_DETECTOR",
   "language": "python",
   "name": "python3"
  },
  "language_info": {
   "codemirror_mode": {
    "name": "ipython",
    "version": 3
   },
   "file_extension": ".py",
   "mimetype": "text/x-python",
   "name": "python",
   "nbconvert_exporter": "python",
   "pygments_lexer": "ipython3",
   "version": "3.10.18"
  }
 },
 "nbformat": 4,
 "nbformat_minor": 5
}

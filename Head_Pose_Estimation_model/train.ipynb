{
 "cells": [
  {
   "cell_type": "code",
   "execution_count": 2,
   "id": "6a56a9e5",
   "metadata": {},
   "outputs": [],
   "source": [
    "import os\n",
    "import cv2\n",
    "import numpy as np\n",
    "import pandas as pd\n",
    "import mediapipe as mp\n",
    "import xgboost as xgb\n",
    "import joblib\n",
    "from sklearn.model_selection import train_test_split\n",
    "from sklearn.metrics import mean_absolute_error, mean_squared_error\n",
    "from tqdm import tqdm"
   ]
  },
  {
   "cell_type": "code",
   "execution_count": 3,
   "id": "c531b760",
   "metadata": {},
   "outputs": [],
   "source": [
    "# 1. KONFIGURASI \n",
    "IMAGE_DIR = 'AFLW2000/'\n",
    "LABEL_FILE = 'AFLW2000_labels.csv'\n",
    "MODEL_OUTPUT_DIR = 'model'"
   ]
  },
  {
   "cell_type": "code",
   "execution_count": 4,
   "id": "1bf3d4e6",
   "metadata": {},
   "outputs": [],
   "source": [
    "# 2. FUNGSI UNTUK EKSTRAKSI FITUR \n",
    "def create_feature_vector(face_landmarks):\n",
    "    anchor_point = face_landmarks.landmark[1]\n",
    "    p_left = face_landmarks.landmark[359]\n",
    "    p_right = face_landmarks.landmark[130]\n",
    "    scale_distance = np.linalg.norm([p_left.x - p_right.x, p_left.y - p_right.y])\n",
    "    if scale_distance < 1e-6:\n",
    "        return None\n",
    "    feature_vector = []\n",
    "    for i in range(len(face_landmarks.landmark)):\n",
    "        if i == 1: continue\n",
    "        landmark = face_landmarks.landmark[i]\n",
    "        feature_vector.extend([\n",
    "            (landmark.x - anchor_point.x) / scale_distance,\n",
    "            (landmark.y - anchor_point.y) / scale_distance,\n",
    "            (landmark.z - anchor_point.z) / scale_distance\n",
    "        ])\n",
    "    return np.array(feature_vector)\n",
    "\n",
    "def process_and_prepare_data(image_dir, label_file):\n",
    "    print(\"\\nMemulai proses ekstraksi fitur dari dataset...\")\n",
    "    labels_df = pd.read_csv(label_file)\n",
    "    mp_face_mesh = mp.solutions.face_mesh\n",
    "    face_mesh = mp_face_mesh.FaceMesh(static_image_mode=True, max_num_faces=1, min_detection_confidence=0.5, refine_landmarks=False)\n",
    "    X_data, y_data = [], []\n",
    "    for index, row in tqdm(labels_df.iterrows(), total=labels_df.shape[0], desc=\"Processing Images\"):\n",
    "        image_path = os.path.join(image_dir, row['image_name'])\n",
    "        if not os.path.exists(image_path): continue\n",
    "        image = cv2.imread(image_path)\n",
    "        if image is None: continue\n",
    "        results = face_mesh.process(cv2.cvtColor(image, cv2.COLOR_BGR2RGB))\n",
    "        if results.multi_face_landmarks:\n",
    "            for face_landmarks in results.multi_face_landmarks:\n",
    "                feature_vector = create_feature_vector(face_landmarks)\n",
    "                if feature_vector is not None:\n",
    "                    X_data.append(feature_vector)\n",
    "                    y_data.append([row['pitch'], row['yaw'], row['roll']])\n",
    "    face_mesh.close()\n",
    "    print(f\"Ekstraksi fitur selesai. Ditemukan {len(X_data)} sampel valid.\")\n",
    "    return np.array(X_data), np.array(y_data)"
   ]
  },
  {
   "cell_type": "code",
   "execution_count": 5,
   "id": "840c58c4",
   "metadata": {},
   "outputs": [],
   "source": [
    "# 3. FUNGSI BARU (HANYA TRAINING) \n",
    "\n",
    "def train_models(X, y, output_dir):\n",
    "    print(\"\\nMemulai training model XGBoost...\")\n",
    "    os.makedirs(output_dir, exist_ok=True)\n",
    "    \n",
    "    X_train, X_test, y_train, y_test = train_test_split(X, y, test_size=0.2, random_state=42)\n",
    "    \n",
    "    models = {}\n",
    "    for i, angle in enumerate(['pitch', 'yaw', 'roll']):\n",
    "        print(f\"--- Melatih model untuk {angle.upper()} ---\")\n",
    "        y_train_angle = y_train[:, i]\n",
    "        model = xgb.XGBRegressor(n_estimators=500, learning_rate=0.05, max_depth=5, random_state=42, n_jobs=-1)\n",
    "        model.fit(X_train, y_train_angle)\n",
    "        \n",
    "        models[angle] = model\n",
    "        model_path = os.path.join(output_dir, f'xgb_{angle}_model.joblib')\n",
    "        joblib.dump(model, model_path)\n",
    "        print(f\"Model untuk {angle.upper()} tersimpan di '{model_path}'\")\n",
    "        \n",
    "    print(\"\\nProses training selesai.\")\n",
    "    # Kembalikan model yang sudah dilatih DAN data uji\n",
    "    return models, X_test, y_test"
   ]
  },
  {
   "cell_type": "code",
   "execution_count": 6,
   "id": "026edb0b",
   "metadata": {},
   "outputs": [],
   "source": [
    "#  4. FUNGSI BARU (HANYA EVALUASI)\n",
    "def evaluate_performance(models, X_test, y_test, tolerance_degrees=5.0):\n",
    "\n",
    "    print(\"\\n\" + \"=\"*45)\n",
    "    print(\"--- HASIL EVALUASI MODEL PADA DATA UJI ---\")\n",
    "    print(\"=\"*45)\n",
    "    \n",
    "    ground_truth = {'pitch': y_test[:, 0], 'yaw': y_test[:, 1], 'roll': y_test[:, 2]}\n",
    "\n",
    "    for angle in ['pitch', 'yaw', 'roll']:\n",
    "        model = models[angle]\n",
    "        y_true = ground_truth[angle]\n",
    "        y_pred = model.predict(X_test)\n",
    "        \n",
    "        mae = mean_absolute_error(y_true, y_pred)\n",
    "        rmse = np.sqrt(mean_squared_error(y_true, y_pred))\n",
    "        accuracy_percent = np.sum(np.abs(y_true - y_pred) <= tolerance_degrees) / len(y_true) * 100\n",
    "        \n",
    "        print(f\"\\nAngle: {angle.upper()}\")\n",
    "        print(f\"  - Mean Absolute Error (MAE)    : {mae:.2f} derajat\")\n",
    "        print(f\"  - Root Mean Squared Error (RMSE) : {rmse:.2f} derajat\")\n",
    "        print(f\"  - Akurasi (toleransi ±{tolerance_degrees}°): {accuracy_percent:.2f} %\")\n",
    "    \n",
    "    print(\"\\n\" + \"=\"*45)"
   ]
  },
  {
   "cell_type": "code",
   "execution_count": 7,
   "id": "ef215fe6",
   "metadata": {},
   "outputs": [
    {
     "name": "stdout",
     "output_type": "stream",
     "text": [
      "\n",
      "Memulai proses ekstraksi fitur dari dataset...\n"
     ]
    },
    {
     "name": "stderr",
     "output_type": "stream",
     "text": [
      "Processing Images: 100%|██████████| 2000/2000 [00:25<00:00, 77.65it/s]\n"
     ]
    },
    {
     "name": "stdout",
     "output_type": "stream",
     "text": [
      "Ekstraksi fitur selesai. Ditemukan 1853 sampel valid.\n",
      "\n",
      "Memulai training model XGBoost...\n",
      "--- Melatih model untuk PITCH ---\n",
      "Model untuk PITCH tersimpan di 'model\\xgb_pitch_model.joblib'\n",
      "--- Melatih model untuk YAW ---\n",
      "Model untuk YAW tersimpan di 'model\\xgb_yaw_model.joblib'\n",
      "--- Melatih model untuk ROLL ---\n",
      "Model untuk ROLL tersimpan di 'model\\xgb_roll_model.joblib'\n",
      "\n",
      "Proses training selesai.\n",
      "\n",
      "=============================================\n",
      "--- HASIL EVALUASI MODEL PADA DATA UJI ---\n",
      "=============================================\n",
      "\n",
      "Angle: PITCH\n",
      "  - Mean Absolute Error (MAE)    : 0.14 derajat\n",
      "  - Root Mean Squared Error (RMSE) : 0.69 derajat\n",
      "  - Akurasi (toleransi ±5.0°): 99.46 %\n",
      "\n",
      "Angle: YAW\n",
      "  - Mean Absolute Error (MAE)    : 0.07 derajat\n",
      "  - Root Mean Squared Error (RMSE) : 0.16 derajat\n",
      "  - Akurasi (toleransi ±5.0°): 100.00 %\n",
      "\n",
      "Angle: ROLL\n",
      "  - Mean Absolute Error (MAE)    : 0.15 derajat\n",
      "  - Root Mean Squared Error (RMSE) : 1.18 derajat\n",
      "  - Akurasi (toleransi ±5.0°): 99.46 %\n",
      "\n",
      "=============================================\n"
     ]
    }
   ],
   "source": [
    "# 5. EKSEKUSI UTAMA \n",
    "\n",
    "if __name__ == '__main__':\n",
    "    if not os.path.exists(LABEL_FILE):\n",
    "        print(f\"Error: File label '{LABEL_FILE}' tidak ditemukan.\")\n",
    "    else:\n",
    "        # Langkah 1: Siapkan data dari file\n",
    "        X_features, y_labels = process_and_prepare_data(IMAGE_DIR, LABEL_FILE)\n",
    "        \n",
    "        if len(X_features) > 0:\n",
    "            # Langkah 2: Latih model dan dapatkan hasilnya (model & data uji)\n",
    "            trained_models, X_test_data, y_test_data = train_models(X_features, y_labels, MODEL_OUTPUT_DIR)\n",
    "            \n",
    "            # Langkah 3: Evaluasi model menggunakan hasil dari langkah 2\n",
    "            evaluate_performance(trained_models, X_test_data, y_test_data)\n",
    "        else:\n",
    "            print(\"Tidak ada data yang bisa diproses.\")"
   ]
  }
 ],
 "metadata": {
  "kernelspec": {
   "display_name": "DROWSINESS_DETECTOR",
   "language": "python",
   "name": "python3"
  },
  "language_info": {
   "codemirror_mode": {
    "name": "ipython",
    "version": 3
   },
   "file_extension": ".py",
   "mimetype": "text/x-python",
   "name": "python",
   "nbconvert_exporter": "python",
   "pygments_lexer": "ipython3",
   "version": "3.10.18"
  }
 },
 "nbformat": 4,
 "nbformat_minor": 5
}

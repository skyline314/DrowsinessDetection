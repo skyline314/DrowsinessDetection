{
 "cells": [
  {
   "cell_type": "code",
   "execution_count": 2,
   "id": "feea24ec",
   "metadata": {},
   "outputs": [
    {
     "name": "stdout",
     "output_type": "stream",
     "text": [
      "Collecting tqdm\n",
      "  Using cached tqdm-4.67.1-py3-none-any.whl.metadata (57 kB)\n",
      "Requirement already satisfied: colorama in c:\\users\\kenny\\anaconda3\\envs\\drowsiness_detector\\lib\\site-packages (from tqdm) (0.4.6)\n",
      "Using cached tqdm-4.67.1-py3-none-any.whl (78 kB)\n",
      "Installing collected packages: tqdm\n",
      "Successfully installed tqdm-4.67.1\n"
     ]
    }
   ],
   "source": [
    "import os\n",
    "import shutil\n",
    "import glob\n",
    "\n",
    "!pip install tqdm\n",
    "from tqdm import tqdm"
   ]
  },
  {
   "cell_type": "code",
   "execution_count": 4,
   "id": "de895593",
   "metadata": {},
   "outputs": [
    {
     "name": "stderr",
     "output_type": "stream",
     "text": [
      "0it [00:00, ?it/s]\n",
      "100%|██████████| 3242/3242 [00:19<00:00, 164.83it/s]\n",
      "100%|██████████| 1114/1114 [00:07<00:00, 143.86it/s]\n",
      "100%|██████████| 679/679 [00:05<00:00, 130.89it/s]\n",
      "100%|██████████| 1069/1069 [00:08<00:00, 126.06it/s]\n",
      "100%|██████████| 736/736 [00:05<00:00, 125.23it/s]\n",
      "100%|██████████| 1012/1012 [00:08<00:00, 125.70it/s]\n",
      "100%|██████████| 624/624 [00:04<00:00, 128.23it/s]\n",
      "100%|██████████| 832/832 [00:06<00:00, 125.09it/s]\n",
      "100%|██████████| 387/387 [00:03<00:00, 123.80it/s]\n",
      "100%|██████████| 399/399 [00:03<00:00, 131.26it/s]\n",
      "100%|██████████| 1648/1648 [00:13<00:00, 123.62it/s]\n",
      "100%|██████████| 8728/8728 [01:07<00:00, 129.30it/s]\n",
      "100%|██████████| 3605/3605 [00:24<00:00, 144.94it/s]\n",
      "100%|██████████| 8884/8884 [01:03<00:00, 140.36it/s]\n",
      "100%|██████████| 1132/1132 [00:08<00:00, 140.77it/s]\n",
      "100%|██████████| 1889/1889 [00:13<00:00, 139.40it/s]\n",
      "100%|██████████| 1648/1648 [00:11<00:00, 137.54it/s]\n",
      "100%|██████████| 4410/4410 [00:31<00:00, 141.06it/s]\n",
      "100%|██████████| 6175/6175 [00:47<00:00, 131.00it/s]\n",
      "100%|██████████| 704/704 [00:05<00:00, 120.24it/s]\n",
      "100%|██████████| 987/987 [00:07<00:00, 129.01it/s]\n",
      "100%|██████████| 382/382 [00:02<00:00, 129.21it/s]\n",
      "100%|██████████| 522/522 [00:04<00:00, 126.86it/s]\n",
      "100%|██████████| 752/752 [00:06<00:00, 125.26it/s]\n",
      "100%|██████████| 1502/1502 [00:12<00:00, 123.60it/s]\n",
      "100%|██████████| 1246/1246 [00:09<00:00, 124.96it/s]\n",
      "100%|██████████| 665/665 [00:05<00:00, 121.22it/s]\n",
      "100%|██████████| 736/736 [00:06<00:00, 119.24it/s]\n",
      "100%|██████████| 1393/1393 [00:11<00:00, 121.83it/s]\n",
      "100%|██████████| 1384/1384 [00:11<00:00, 120.35it/s]\n",
      "100%|██████████| 1738/1738 [00:14<00:00, 122.16it/s]\n",
      "100%|██████████| 6162/6162 [00:49<00:00, 123.36it/s]\n",
      "100%|██████████| 681/681 [00:05<00:00, 120.66it/s]\n",
      "100%|██████████| 739/739 [00:06<00:00, 112.97it/s]\n",
      "100%|██████████| 642/642 [00:04<00:00, 134.12it/s]\n",
      "100%|██████████| 6193/6193 [00:48<00:00, 128.82it/s]\n",
      "100%|██████████| 10257/10257 [01:19<00:00, 128.34it/s]\n"
     ]
    }
   ],
   "source": [
    "Raw_DIR= r'mrlEyes_2018_01'\n",
    "for dirpath, dirname, filenames in os.walk(Raw_DIR):\n",
    "    for i in tqdm([f for f in filenames if f.endswith('.png')]):\n",
    "        if i.split('_')[4]=='0':\n",
    "            shutil.copy(src=dirpath+'/'+i, dst=r'Prepared Data\\Close Eyes')\n",
    "        \n",
    "        elif i.split('_')[4]=='1':\n",
    "            shutil.copy(src=dirpath+'/'+i, dst=r'Prepared Data\\Open Eyes')\n"
   ]
  },
  {
   "cell_type": "code",
   "execution_count": null,
   "id": "942197ee",
   "metadata": {},
   "outputs": [],
   "source": []
  }
 ],
 "metadata": {
  "kernelspec": {
   "display_name": "DROWSINESS_DETECTOR",
   "language": "python",
   "name": "python3"
  },
  "language_info": {
   "codemirror_mode": {
    "name": "ipython",
    "version": 3
   },
   "file_extension": ".py",
   "mimetype": "text/x-python",
   "name": "python",
   "nbconvert_exporter": "python",
   "pygments_lexer": "ipython3",
   "version": "3.10.18"
  }
 },
 "nbformat": 4,
 "nbformat_minor": 5
}

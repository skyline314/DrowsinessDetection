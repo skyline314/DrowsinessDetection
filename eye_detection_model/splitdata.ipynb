{
 "cells": [
  {
   "cell_type": "code",
   "execution_count": null,
   "id": "813b00bf",
   "metadata": {},
   "outputs": [
    {
     "name": "stdout",
     "output_type": "stream",
     "text": [
      "Memulai proses pembagian dataset...\n",
      "Kelas 'Close Eyes':\n",
      "  - 33556 file train\n",
      "  - 4195 file validation\n",
      "  - 4195 file test\n",
      "Kelas 'Open Eyes':\n",
      "  - 34361 file train\n",
      "  - 4295 file validation\n",
      "  - 4296 file test\n",
      "\n",
      "Proses selesai! ✅\n",
      "Dataset yang sudah dibagi tersimpan di folder: dataset_split\n"
     ]
    }
   ],
   "source": [
    "import os\n",
    "import shutil\n",
    "from sklearn.model_selection import train_test_split\n",
    "\n",
    "\n",
    "source_dir = r'Prepared Data/' \n",
    "output_dir = r'dataset_split' \n",
    "\n",
    "# Rasio pembagian data\n",
    "train_ratio = 0.8\n",
    "validation_ratio = 0.1\n",
    "test_ratio = 0.1\n",
    "\n",
    "\n",
    "# Hapus folder output jika sudah ada untuk memulai dari awal\n",
    "if os.path.exists(output_dir):\n",
    "    shutil.rmtree(output_dir)\n",
    "\n",
    "# Fungsi untuk menyalin file\n",
    "def copy_files(files, dest_folder):\n",
    "    if not os.path.exists(dest_folder):\n",
    "        os.makedirs(dest_folder)\n",
    "    for f in files:\n",
    "        shutil.copy(f, dest_folder)\n",
    "\n",
    "print(\"Memulai proses pembagian dataset...\")\n",
    "\n",
    "\n",
    "for class_name in os.listdir(source_dir):\n",
    "    class_path = os.path.join(source_dir, class_name)\n",
    "    \n",
    "    if os.path.isdir(class_path):\n",
    "        images = [os.path.join(class_path, f) for f in os.listdir(class_path) if f.endswith(('.jpg', '.jpeg', '.png'))]\n",
    "        \n",
    "        if not images:\n",
    "            continue\n",
    "\n",
    "        #Pisahkan data menjadi 80% train dan 20% sisa (untuk validation + test)\n",
    "        train_files, temp_files = train_test_split(\n",
    "            images, train_size=train_ratio, random_state=42\n",
    "        )\n",
    "\n",
    "        # Pisahkan 20% sisa menjadi 10% validation dan 10% test\n",
    "        # Rasio untuk pemisahan kedua adalah 0.5 (50% dari sisa) untuk mendapatkan 10% dari total\n",
    "        validation_files, test_files = train_test_split(\n",
    "            temp_files, train_size=validation_ratio / (validation_ratio + test_ratio), random_state=42\n",
    "        )\n",
    "\n",
    "        train_dest = os.path.join(output_dir, 'train', class_name)\n",
    "        validation_dest = os.path.join(output_dir, 'validation', class_name)\n",
    "        test_dest = os.path.join(output_dir, 'test', class_name)\n",
    "\n",
    "        # Menyalin file ke folder tujuan\n",
    "        copy_files(train_files, train_dest)\n",
    "        copy_files(validation_files, validation_dest)\n",
    "        copy_files(test_files, test_dest)\n",
    "        \n",
    "        print(f\"Kelas '{class_name}':\")\n",
    "        print(f\"  - {len(train_files)} file train\")\n",
    "        print(f\"  - {len(validation_files)} file validation\")\n",
    "        print(f\"  - {len(test_files)} file test\")\n",
    "\n",
    "print(\"\\nProses selesai! ✅\")\n",
    "print(f\"Dataset yang sudah dibagi tersimpan di folder: {output_dir}\")"
   ]
  }
 ],
 "metadata": {
  "kernelspec": {
   "display_name": "DROWSINESS_DETECTOR",
   "language": "python",
   "name": "python3"
  },
  "language_info": {
   "codemirror_mode": {
    "name": "ipython",
    "version": 3
   },
   "file_extension": ".py",
   "mimetype": "text/x-python",
   "name": "python",
   "nbconvert_exporter": "python",
   "pygments_lexer": "ipython3",
   "version": "3.10.18"
  }
 },
 "nbformat": 4,
 "nbformat_minor": 5
}
